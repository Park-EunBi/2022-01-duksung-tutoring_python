{
 "cells": [
  {
   "cell_type": "markdown",
   "id": "b8f5ea92",
   "metadata": {},
   "source": [
    "# 함수로 문제를 나누어 풀기"
   ]
  },
  {
   "cell_type": "markdown",
   "id": "271f792e",
   "metadata": {},
   "source": [
    "## 함수 호출하기"
   ]
  },
  {
   "cell_type": "markdown",
   "id": "9808b3ad",
   "metadata": {},
   "source": [
    "### 함수를 실행하는 방법"
   ]
  },
  {
   "cell_type": "code",
   "execution_count": 7,
   "id": "adf38c1a",
   "metadata": {},
   "outputs": [
    {
     "name": "stdout",
     "output_type": "stream",
     "text": [
      "\n",
      "1\n"
     ]
    }
   ],
   "source": [
    "print()\n",
    "abs(-10)\n",
    "\n",
    "print(1)\n",
    "\n",
    "num = abs(-10)"
   ]
  },
  {
   "cell_type": "markdown",
   "id": "7c4d7493",
   "metadata": {},
   "source": [
    "## 함수 정의하기"
   ]
  },
  {
   "cell_type": "markdown",
   "id": "665d1037",
   "metadata": {},
   "source": [
    "### def 문: 함수 정의하기"
   ]
  },
  {
   "cell_type": "code",
   "execution_count": null,
   "id": "cb3c4099",
   "metadata": {},
   "outputs": [],
   "source": [
    "def 함수이름():\n",
    "    본문"
   ]
  },
  {
   "cell_type": "code",
   "execution_count": 8,
   "id": "aad61973",
   "metadata": {},
   "outputs": [
    {
     "name": "stdout",
     "output_type": "stream",
     "text": [
      "주문하실 음료를 알려주세요\n",
      "아메리카노\n",
      "아메리카노 주문 받았습니다.\n"
     ]
    }
   ],
   "source": [
    "def order():\n",
    "    print(\"주문하실 음료를 알려주세요\")\n",
    "    drink = input()\n",
    "    print(drink, '주문 받았습니다.')\n",
    "    \n",
    "order()"
   ]
  },
  {
   "cell_type": "markdown",
   "id": "91507678",
   "metadata": {},
   "source": [
    "### 매개변수 정의하기"
   ]
  },
  {
   "cell_type": "code",
   "execution_count": null,
   "id": "e83cc878",
   "metadata": {},
   "outputs": [],
   "source": [
    "def 함수이름(num1, num2):\n",
    "    본문\n",
    "    \n",
    "함수이름(1, 2)"
   ]
  },
  {
   "cell_type": "code",
   "execution_count": 6,
   "id": "0dca85f8",
   "metadata": {},
   "outputs": [
    {
     "data": {
      "text/plain": [
       "4000"
      ]
     },
     "execution_count": 6,
     "metadata": {},
     "output_type": "execute_result"
    }
   ],
   "source": [
    "def print_price(num_drink):\n",
    "    price = 2000\n",
    "    res = price * num_drink\n",
    "    return res\n",
    "\n",
    "print_price(2)"
   ]
  },
  {
   "cell_type": "markdown",
   "id": "0dae8483",
   "metadata": {},
   "source": [
    "### 매개변수 여러개 지정하기"
   ]
  },
  {
   "cell_type": "code",
   "execution_count": 7,
   "id": "dec852b5",
   "metadata": {},
   "outputs": [
    {
     "data": {
      "text/plain": [
       "12000"
      ]
     },
     "execution_count": 7,
     "metadata": {},
     "output_type": "execute_result"
    }
   ],
   "source": [
    "def print_price(drink, cake):\n",
    "    drink_price = 2000\n",
    "    cake_price = 3000\n",
    "    result = (drink * drink_price) + (cake * cake_price )\n",
    "    return result\n",
    "\n",
    "print_price(3, 2)"
   ]
  },
  {
   "cell_type": "markdown",
   "id": "47c254d5",
   "metadata": {},
   "source": [
    "## return: 데이터를 반환하기"
   ]
  },
  {
   "cell_type": "markdown",
   "id": "6c23130d",
   "metadata": {},
   "source": [
    "### 함수에서 값 반환하기"
   ]
  },
  {
   "cell_type": "code",
   "execution_count": null,
   "id": "e6a9ac73",
   "metadata": {},
   "outputs": [],
   "source": [
    "def 함수이름():\n",
    "    본문\n",
    "    return 반환값 \n"
   ]
  },
  {
   "cell_type": "code",
   "execution_count": 11,
   "id": "b2d24180",
   "metadata": {},
   "outputs": [
    {
     "data": {
      "text/plain": [
       "6000"
      ]
     },
     "execution_count": 11,
     "metadata": {},
     "output_type": "execute_result"
    }
   ],
   "source": [
    "def price(num):\n",
    "    return 2000 * num\n",
    "\n",
    "\n",
    "num = 3\n",
    "res = price(num)\n",
    "res\n"
   ]
  },
  {
   "cell_type": "markdown",
   "id": "2fa4c678",
   "metadata": {},
   "source": [
    "### 함수의 실행을 중간에 끝내기"
   ]
  },
  {
   "cell_type": "code",
   "execution_count": null,
   "id": "8ee290fd",
   "metadata": {},
   "outputs": [],
   "source": [
    "def print_num():\n",
    "    print(1)\n",
    "    print(2)\n",
    "    return \n",
    "    print(3)"
   ]
  },
  {
   "cell_type": "markdown",
   "id": "eeb3dcd7",
   "metadata": {},
   "source": [
    "## 연습문제"
   ]
  },
  {
   "cell_type": "code",
   "execution_count": 10,
   "id": "3e7b25a7",
   "metadata": {},
   "outputs": [
    {
     "name": "stdout",
     "output_type": "stream",
     "text": [
      "10\n"
     ]
    }
   ],
   "source": [
    "# 사용자에게 정수를 하나 입력받아 절댓값을 반환하는 함수를 작성하시오 \n",
    "\n",
    "def absolute(num):\n",
    "    return abs(num)\n",
    "\n",
    "print(absolute(-10))"
   ]
  },
  {
   "cell_type": "markdown",
   "id": "23a02ef7",
   "metadata": {},
   "source": [
    "## 전역변수와 지역변수"
   ]
  },
  {
   "cell_type": "markdown",
   "id": "a22b381b",
   "metadata": {},
   "source": [
    "### global 문이 필요한 상황: 함수의 실행 결과 누적하기"
   ]
  },
  {
   "cell_type": "code",
   "execution_count": 13,
   "id": "51b812b3",
   "metadata": {},
   "outputs": [],
   "source": [
    "# 쿠폰 도장의 개수를 계산하는 함수 \n",
    "def stamp():\n",
    "    stamp_count = stamp_count + 1 \n",
    "    # stamp_count의 초기값이 지정되지 않아 오류가 나고\n",
    "    # 초기값을 지정하면 함수 안으로 들어올 때마다 stamp_count의 값이 초기 값으로 초기화된다 \n",
    "\n",
    "    stamp_count = 0\n",
    "\n",
    "def stamp():\n",
    "    stamp_count += 1\n",
    "    print(stamp_count)\n",
    "\n",
    "# 오류 발생!\n",
    "# stamp_count += 1을 실행할 때 함수 안에서 새로운 지역 변수 stamp_count가 생성됨\n",
    "# 근데 만들어지지 않은 지역 변수를 읽으려고 했기에 오류가 발생 \n",
    "# 사용자는 전역 변수를 변경한다고 생각했겠지만 \n",
    "# 함수 안에서는 전역 변수를 변경할 수 없기에 새로운 지역 변수가 생성된 것이다 "
   ]
  },
  {
   "cell_type": "markdown",
   "id": "a5d91730",
   "metadata": {},
   "source": [
    "### global 문"
   ]
  },
  {
   "cell_type": "code",
   "execution_count": 14,
   "id": "51c9e755",
   "metadata": {},
   "outputs": [
    {
     "ename": "SyntaxError",
     "evalue": "invalid syntax (<ipython-input-14-a7f6125f4a45>, line 4)",
     "output_type": "error",
     "traceback": [
      "\u001b[1;36m  File \u001b[1;32m\"<ipython-input-14-a7f6125f4a45>\"\u001b[1;36m, line \u001b[1;32m4\u001b[0m\n\u001b[1;33m    global stamp_count += 1\u001b[0m\n\u001b[1;37m                       ^\u001b[0m\n\u001b[1;31mSyntaxError\u001b[0m\u001b[1;31m:\u001b[0m invalid syntax\n"
     ]
    }
   ],
   "source": [
    "stamp_count = 0\n",
    "\n",
    "def stamp():\n",
    "    global stamp_count += 1\n",
    "    print(stamp_count)\n",
    "    \n",
    "stamp()"
   ]
  },
  {
   "cell_type": "markdown",
   "id": "20b5253f",
   "metadata": {},
   "source": [
    "### global 문과 전역 변수 대신 함수의 매개변수와 반환값을 이용하자"
   ]
  },
  {
   "cell_type": "code",
   "execution_count": 15,
   "id": "240c4d4b",
   "metadata": {},
   "outputs": [],
   "source": [
    "num_stamp = 0\n",
    "\n",
    "def stamp(num_stamp):\n",
    "    num_stamp += 1\n",
    "    return num_stamp\n",
    "\n",
    "num_stamp = stamp(num_stamp)"
   ]
  },
  {
   "cell_type": "code",
   "execution_count": 14,
   "id": "fb019ba6",
   "metadata": {},
   "outputs": [
    {
     "name": "stdout",
     "output_type": "stream",
     "text": [
      "1\n"
     ]
    }
   ],
   "source": [
    "num_stamp = 0\n",
    "\n",
    "def stamp(a):\n",
    "    a += 1\n",
    "    return a \n",
    "\n",
    "print(stamp(num_stamp))"
   ]
  },
  {
   "cell_type": "markdown",
   "id": "525fc32c",
   "metadata": {},
   "source": [
    "## 매개변수를 좀 더 유연하게 활용하기"
   ]
  },
  {
   "cell_type": "markdown",
   "id": "76bc0b8e",
   "metadata": {},
   "source": [
    "### 매개변수 기본값 정의하기"
   ]
  },
  {
   "cell_type": "code",
   "execution_count": 17,
   "id": "de462723",
   "metadata": {},
   "outputs": [
    {
     "data": {
      "text/plain": [
       "1"
      ]
     },
     "execution_count": 17,
     "metadata": {},
     "output_type": "execute_result"
    }
   ],
   "source": [
    "round(1.23)"
   ]
  },
  {
   "cell_type": "code",
   "execution_count": 18,
   "id": "ffd597a4",
   "metadata": {},
   "outputs": [
    {
     "data": {
      "text/plain": [
       "1.23"
      ]
     },
     "execution_count": 18,
     "metadata": {},
     "output_type": "execute_result"
    }
   ],
   "source": [
    "round(1.23, 2)"
   ]
  },
  {
   "cell_type": "code",
   "execution_count": 27,
   "id": "d034b223",
   "metadata": {},
   "outputs": [
    {
     "data": {
      "text/plain": [
       "1.0"
      ]
     },
     "execution_count": 27,
     "metadata": {},
     "output_type": "execute_result"
    }
   ],
   "source": [
    "def divide (num, by):\n",
    "    return num/by\n",
    "\n",
    "divide(2)\n",
    "divide(2 , 3)\n",
    "\n",
    "divide (by = 3)"
   ]
  },
  {
   "cell_type": "markdown",
   "id": "db1c9522",
   "metadata": {},
   "source": [
    "### 기본값을 가지는 매개변수의 위치"
   ]
  },
  {
   "cell_type": "code",
   "execution_count": null,
   "id": "8e6f8482",
   "metadata": {},
   "outputs": [],
   "source": [
    "# 에러\n",
    "def divide(num = 2, by):\n",
    "    return num/by\n",
    "\n",
    "# 수정\n",
    "def divide(num = 2, by = 2):\n",
    "    return num/by"
   ]
  },
  {
   "cell_type": "markdown",
   "id": "d936ffcf",
   "metadata": {},
   "source": [
    "### 매개변수를 지정해 값 전달하기"
   ]
  },
  {
   "cell_type": "code",
   "execution_count": 16,
   "id": "0fcd28b2",
   "metadata": {},
   "outputs": [
    {
     "data": {
      "text/plain": [
       "2200"
      ]
     },
     "execution_count": 16,
     "metadata": {},
     "output_type": "execute_result"
    }
   ],
   "source": [
    "def coin(ohbak = 0, bak = 0, ohsip = 0, sip = 0):\n",
    "    return 500 * ohbak  + 100 * bak + 50 * ohsip + sip * 10\n",
    "\n",
    "coin()\n",
    "\n",
    "coin(1, 10, 0, 100)\n",
    "\n",
    "coin(sip = 220)\n"
   ]
  },
  {
   "cell_type": "markdown",
   "id": "0aebb943",
   "metadata": {},
   "source": [
    "### print() 함수의 선택적 매개변수 사용하기"
   ]
  },
  {
   "cell_type": "code",
   "execution_count": 24,
   "id": "973ca3bd",
   "metadata": {},
   "outputs": [
    {
     "name": "stdout",
     "output_type": "stream",
     "text": [
      "1\n",
      "\n",
      "3..."
     ]
    }
   ],
   "source": [
    "print(1)\n",
    "print()\n",
    "num = 3\n",
    "print(num, end=' ')\n"
   ]
  },
  {
   "cell_type": "code",
   "execution_count": 25,
   "id": "18714083",
   "metadata": {},
   "outputs": [
    {
     "name": "stdout",
     "output_type": "stream",
     "text": [
      "주문 받겠습니다 아메리카노\n"
     ]
    }
   ],
   "source": [
    "print('주문 받겠습니다', end=' ')\n",
    "drink = input()"
   ]
  },
  {
   "cell_type": "markdown",
   "id": "252a3e5a",
   "metadata": {},
   "source": [
    "## 이름이 없는 함수 - 람다식"
   ]
  },
  {
   "cell_type": "code",
   "execution_count": null,
   "id": "ff3e7b15",
   "metadata": {},
   "outputs": [],
   "source": [
    "lambda x: x+ 1\n"
   ]
  },
  {
   "cell_type": "code",
   "execution_count": 26,
   "id": "30eb1f1f",
   "metadata": {},
   "outputs": [
    {
     "data": {
      "text/plain": [
       "3"
      ]
     },
     "execution_count": 26,
     "metadata": {},
     "output_type": "execute_result"
    }
   ],
   "source": [
    "add = lambda a, b: a+ b\n",
    "add(1, 2)"
   ]
  }
 ],
 "metadata": {
  "kernelspec": {
   "display_name": "Python 3",
   "language": "python",
   "name": "python3"
  },
  "language_info": {
   "codemirror_mode": {
    "name": "ipython",
    "version": 3
   },
   "file_extension": ".py",
   "mimetype": "text/x-python",
   "name": "python",
   "nbconvert_exporter": "python",
   "pygments_lexer": "ipython3",
   "version": "3.8.8"
  }
 },
 "nbformat": 4,
 "nbformat_minor": 5
}

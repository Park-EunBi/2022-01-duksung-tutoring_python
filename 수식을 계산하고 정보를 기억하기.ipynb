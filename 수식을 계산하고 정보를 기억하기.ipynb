{
 "cells": [
  {
   "cell_type": "markdown",
   "id": "fe8b2f55",
   "metadata": {},
   "source": [
    "# 수식을 계산하고 정보를 기억하기"
   ]
  },
  {
   "cell_type": "markdown",
   "id": "147d1c82",
   "metadata": {},
   "source": [
    "## 수식 계산"
   ]
  },
  {
   "cell_type": "markdown",
   "id": "8c29f19c",
   "metadata": {},
   "source": [
    "### 수식 나타내기"
   ]
  },
  {
   "cell_type": "code",
   "execution_count": 6,
   "id": "886886f2",
   "metadata": {},
   "outputs": [
    {
     "data": {
      "text/plain": [
       "199"
      ]
     },
     "execution_count": 6,
     "metadata": {},
     "output_type": "execute_result"
    }
   ],
   "source": [
    "200 - 1"
   ]
  },
  {
   "cell_type": "code",
   "execution_count": 7,
   "id": "07060cb6",
   "metadata": {},
   "outputs": [
    {
     "data": {
      "text/plain": [
       "200"
      ]
     },
     "execution_count": 7,
     "metadata": {},
     "output_type": "execute_result"
    }
   ],
   "source": [
    "200  * 1"
   ]
  },
  {
   "cell_type": "code",
   "execution_count": 9,
   "id": "96e521ce",
   "metadata": {},
   "outputs": [
    {
     "data": {
      "text/plain": [
       "203"
      ]
     },
     "execution_count": 9,
     "metadata": {},
     "output_type": "execute_result"
    }
   ],
   "source": [
    "200 + 3"
   ]
  },
  {
   "cell_type": "code",
   "execution_count": 10,
   "id": "a1cea7cd",
   "metadata": {},
   "outputs": [
    {
     "data": {
      "text/plain": [
       "100.0"
      ]
     },
     "execution_count": 10,
     "metadata": {},
     "output_type": "execute_result"
    }
   ],
   "source": [
    "200/2"
   ]
  },
  {
   "cell_type": "markdown",
   "id": "a5a8a19d",
   "metadata": {},
   "source": [
    "### 연산자"
   ]
  },
  {
   "cell_type": "code",
   "execution_count": 8,
   "id": "244f471b",
   "metadata": {},
   "outputs": [
    {
     "data": {
      "text/plain": [
       "8"
      ]
     },
     "execution_count": 8,
     "metadata": {},
     "output_type": "execute_result"
    }
   ],
   "source": [
    "2 ** 3"
   ]
  },
  {
   "cell_type": "code",
   "execution_count": 9,
   "id": "7ac4b5ab",
   "metadata": {},
   "outputs": [
    {
     "data": {
      "text/plain": [
       "1"
      ]
     },
     "execution_count": 9,
     "metadata": {},
     "output_type": "execute_result"
    }
   ],
   "source": [
    "3 // 2"
   ]
  },
  {
   "cell_type": "code",
   "execution_count": 10,
   "id": "457f1ed8",
   "metadata": {},
   "outputs": [
    {
     "data": {
      "text/plain": [
       "1"
      ]
     },
     "execution_count": 10,
     "metadata": {},
     "output_type": "execute_result"
    }
   ],
   "source": [
    "5 % 2"
   ]
  },
  {
   "cell_type": "markdown",
   "id": "c0023fa1",
   "metadata": {},
   "source": [
    "### 연산순서"
   ]
  },
  {
   "cell_type": "code",
   "execution_count": 11,
   "id": "52f8bf0a",
   "metadata": {},
   "outputs": [
    {
     "data": {
      "text/plain": [
       "7"
      ]
     },
     "execution_count": 11,
     "metadata": {},
     "output_type": "execute_result"
    }
   ],
   "source": [
    "1 + 2 * 3"
   ]
  },
  {
   "cell_type": "code",
   "execution_count": 12,
   "id": "1607bb31",
   "metadata": {},
   "outputs": [
    {
     "data": {
      "text/plain": [
       "9"
      ]
     },
     "execution_count": 12,
     "metadata": {},
     "output_type": "execute_result"
    }
   ],
   "source": [
    "(1 + 2) * 3"
   ]
  },
  {
   "cell_type": "markdown",
   "id": "f0f6c9af",
   "metadata": {},
   "source": [
    "### 등식과 부등식"
   ]
  },
  {
   "cell_type": "code",
   "execution_count": 13,
   "id": "33978d9f",
   "metadata": {},
   "outputs": [
    {
     "data": {
      "text/plain": [
       "False"
      ]
     },
     "execution_count": 13,
     "metadata": {},
     "output_type": "execute_result"
    }
   ],
   "source": [
    "1 == 2"
   ]
  },
  {
   "cell_type": "markdown",
   "id": "8335cf15",
   "metadata": {},
   "source": [
    "### 함수를 이용한 계산"
   ]
  },
  {
   "cell_type": "code",
   "execution_count": 14,
   "id": "92a22515",
   "metadata": {},
   "outputs": [
    {
     "data": {
      "text/plain": [
       "3"
      ]
     },
     "execution_count": 14,
     "metadata": {},
     "output_type": "execute_result"
    }
   ],
   "source": [
    "abs(-3)"
   ]
  },
  {
   "cell_type": "code",
   "execution_count": 15,
   "id": "8dd94e07",
   "metadata": {},
   "outputs": [
    {
     "data": {
      "text/plain": [
       "3"
      ]
     },
     "execution_count": 15,
     "metadata": {},
     "output_type": "execute_result"
    }
   ],
   "source": [
    "round(3.123)"
   ]
  },
  {
   "cell_type": "code",
   "execution_count": 16,
   "id": "42b4924a",
   "metadata": {},
   "outputs": [
    {
     "data": {
      "text/plain": [
       "3.1"
      ]
     },
     "execution_count": 16,
     "metadata": {},
     "output_type": "execute_result"
    }
   ],
   "source": [
    "round(3.123, 1)"
   ]
  },
  {
   "cell_type": "code",
   "execution_count": 18,
   "id": "5fc62b70",
   "metadata": {},
   "outputs": [
    {
     "data": {
      "text/plain": [
       "300.0"
      ]
     },
     "execution_count": 18,
     "metadata": {},
     "output_type": "execute_result"
    }
   ],
   "source": [
    "round(312.123, -2)"
   ]
  },
  {
   "cell_type": "code",
   "execution_count": 20,
   "id": "a06bb67b",
   "metadata": {},
   "outputs": [
    {
     "data": {
      "text/plain": [
       "2.0"
      ]
     },
     "execution_count": 20,
     "metadata": {},
     "output_type": "execute_result"
    }
   ],
   "source": [
    "import math\n",
    "math.sqrt(4)"
   ]
  },
  {
   "cell_type": "code",
   "execution_count": 21,
   "id": "3d92ddcb",
   "metadata": {},
   "outputs": [
    {
     "data": {
      "text/plain": [
       "2.23606797749979"
      ]
     },
     "execution_count": 21,
     "metadata": {},
     "output_type": "execute_result"
    }
   ],
   "source": [
    "math.sqrt(5)"
   ]
  },
  {
   "cell_type": "markdown",
   "id": "0ad262b5",
   "metadata": {},
   "source": [
    "#### 현실의 문제는 수식으로 제공되지 않는다"
   ]
  },
  {
   "cell_type": "markdown",
   "id": "120667ab",
   "metadata": {},
   "source": [
    "방 A는 가로 2.5m 세로 3m이고 월세 27만원이다\n",
    "방 B는 가로 4m 세로 3m이고 월세 30만원이다\n",
    "어느 방이 가격 대비 더 넓은가?"
   ]
  },
  {
   "cell_type": "code",
   "execution_count": 22,
   "id": "193e50da",
   "metadata": {},
   "outputs": [
    {
     "data": {
      "text/plain": [
       "True"
      ]
     },
     "execution_count": 22,
     "metadata": {},
     "output_type": "execute_result"
    }
   ],
   "source": [
    "(2.5 * 3 / 27) < (4 * 3 / 30)"
   ]
  },
  {
   "cell_type": "markdown",
   "id": "f283d048",
   "metadata": {},
   "source": [
    "# 변수와 이름"
   ]
  },
  {
   "cell_type": "markdown",
   "id": "fda276c4",
   "metadata": {},
   "source": [
    "## 변수에 값을 대입하고 읽기"
   ]
  },
  {
   "cell_type": "markdown",
   "id": "b6d81e23",
   "metadata": {},
   "source": [
    "### 대입문"
   ]
  },
  {
   "cell_type": "code",
   "execution_count": 24,
   "id": "5c6803a3",
   "metadata": {},
   "outputs": [
    {
     "data": {
      "text/plain": [
       "1"
      ]
     },
     "execution_count": 24,
     "metadata": {},
     "output_type": "execute_result"
    }
   ],
   "source": [
    "x = 10\n",
    "a,b,c = 1, 2, 3 "
   ]
  },
  {
   "cell_type": "markdown",
   "id": "df1f250c",
   "metadata": {},
   "source": [
    "### 변수에 대입된 값 읽기"
   ]
  },
  {
   "cell_type": "code",
   "execution_count": 25,
   "id": "d8332907",
   "metadata": {},
   "outputs": [
    {
     "data": {
      "text/plain": [
       "1"
      ]
     },
     "execution_count": 25,
     "metadata": {},
     "output_type": "execute_result"
    }
   ],
   "source": [
    "a"
   ]
  },
  {
   "cell_type": "markdown",
   "id": "dad3c5f3",
   "metadata": {},
   "source": [
    "## 변수에 대입된 값 바꾸기"
   ]
  },
  {
   "cell_type": "markdown",
   "id": "71afdb1e",
   "metadata": {},
   "source": [
    "### 변수에 새로운 값 대입하기"
   ]
  },
  {
   "cell_type": "code",
   "execution_count": 26,
   "id": "dc2f1a2a",
   "metadata": {},
   "outputs": [
    {
     "data": {
      "text/plain": [
       "2"
      ]
     },
     "execution_count": 26,
     "metadata": {},
     "output_type": "execute_result"
    }
   ],
   "source": [
    "# x = 10\n",
    "x  = 2\n",
    "x"
   ]
  },
  {
   "cell_type": "markdown",
   "id": "71406225",
   "metadata": {},
   "source": [
    "### 변수의 값 수정하기"
   ]
  },
  {
   "cell_type": "code",
   "execution_count": 6,
   "id": "34afc9f1",
   "metadata": {},
   "outputs": [
    {
     "data": {
      "text/plain": [
       "3"
      ]
     },
     "execution_count": 6,
     "metadata": {},
     "output_type": "execute_result"
    }
   ],
   "source": [
    "x = 3\n",
    "x"
   ]
  },
  {
   "cell_type": "markdown",
   "id": "497dd59e",
   "metadata": {},
   "source": [
    "### 수정 대입 연산자로 변수의 값 수정하기"
   ]
  },
  {
   "cell_type": "code",
   "execution_count": null,
   "id": "b18f2169",
   "metadata": {},
   "outputs": [],
   "source": [
    "x += 3\n",
    "x = x + 3\n",
    "# +=, -=, *"
   ]
  },
  {
   "cell_type": "markdown",
   "id": "cb159e4d",
   "metadata": {},
   "source": [
    "## 변수는 이름이다\n"
   ]
  },
  {
   "cell_type": "markdown",
   "id": "dd005cd9",
   "metadata": {},
   "source": [
    "### 이름으로 데이터의 의미를 나타내기"
   ]
  },
  {
   "cell_type": "code",
   "execution_count": null,
   "id": "4ddf13ff",
   "metadata": {},
   "outputs": [],
   "source": [
    "apple = 500"
   ]
  },
  {
   "cell_type": "markdown",
   "id": "a230bd6d",
   "metadata": {},
   "source": [
    "### 이름 삭제하기"
   ]
  },
  {
   "cell_type": "code",
   "execution_count": 28,
   "id": "aaccc5b1",
   "metadata": {},
   "outputs": [
    {
     "ename": "NameError",
     "evalue": "name 'x' is not defined",
     "output_type": "error",
     "traceback": [
      "\u001b[1;31m---------------------------------------------------------------------------\u001b[0m",
      "\u001b[1;31mNameError\u001b[0m                                 Traceback (most recent call last)",
      "\u001b[1;32m<ipython-input-28-3dde88e24a37>\u001b[0m in \u001b[0;36m<module>\u001b[1;34m\u001b[0m\n\u001b[0;32m      1\u001b[0m \u001b[0mx\u001b[0m \u001b[1;33m=\u001b[0m \u001b[1;36m10\u001b[0m\u001b[1;33m\u001b[0m\u001b[1;33m\u001b[0m\u001b[0m\n\u001b[0;32m      2\u001b[0m \u001b[1;32mdel\u001b[0m \u001b[0mx\u001b[0m\u001b[1;33m\u001b[0m\u001b[1;33m\u001b[0m\u001b[0m\n\u001b[1;32m----> 3\u001b[1;33m \u001b[0mx\u001b[0m\u001b[1;33m\u001b[0m\u001b[1;33m\u001b[0m\u001b[0m\n\u001b[0m",
      "\u001b[1;31mNameError\u001b[0m: name 'x' is not defined"
     ]
    }
   ],
   "source": [
    "x = 10\n",
    "del x\n",
    "x"
   ]
  },
  {
   "cell_type": "markdown",
   "id": "da6bc23f",
   "metadata": {},
   "source": [
    "## 데이터 기억하기"
   ]
  },
  {
   "cell_type": "markdown",
   "id": "4ade144c",
   "metadata": {},
   "source": [
    "### 중간 계산값 기억하기"
   ]
  },
  {
   "cell_type": "code",
   "execution_count": null,
   "id": "79151f87",
   "metadata": {},
   "outputs": [],
   "source": [
    "kcal = 0\n",
    "\n",
    "kcal_1  = 100\n",
    "kcal_2 = 200\n"
   ]
  },
  {
   "cell_type": "markdown",
   "id": "4f3c1b12",
   "metadata": {},
   "source": [
    "### 중간 계산값 누적하기"
   ]
  },
  {
   "cell_type": "code",
   "execution_count": 30,
   "id": "35b0283b",
   "metadata": {},
   "outputs": [
    {
     "data": {
      "text/plain": [
       "400"
      ]
     },
     "execution_count": 30,
     "metadata": {},
     "output_type": "execute_result"
    }
   ],
   "source": [
    "kcal = 0\n",
    "\n",
    "kcal += 300\n",
    "kcal += 100\n",
    "kcal"
   ]
  },
  {
   "cell_type": "markdown",
   "id": "1033aa0d",
   "metadata": {},
   "source": [
    "### 사용자가 입력한 수 계산하기"
   ]
  },
  {
   "cell_type": "code",
   "execution_count": null,
   "id": "ca82974d",
   "metadata": {},
   "outputs": [],
   "source": [
    "input()\n",
    "\n",
    "num = input()"
   ]
  },
  {
   "cell_type": "code",
   "execution_count": null,
   "id": "96cbf76a",
   "metadata": {},
   "outputs": [],
   "source": [
    "num = inputnu\n",
    "int(num)"
   ]
  },
  {
   "cell_type": "markdown",
   "id": "c24a67d5",
   "metadata": {},
   "source": [
    "#### 사용자에게 오늘 하루 동안 먹은 빵의 개수를 받고 섭취한 빵의 총 칼로리를 계산하는 코드를 작성하자 (빵의 칼로리는 200이다)\n"
   ]
  },
  {
   "cell_type": "code",
   "execution_count": 4,
   "id": "d268889d",
   "metadata": {},
   "outputs": [
    {
     "name": "stdout",
     "output_type": "stream",
     "text": [
      "3\n",
      "600 kacl\n"
     ]
    }
   ],
   "source": [
    "num = int(input())\n",
    "print(200 * num, 'kacl')"
   ]
  },
  {
   "cell_type": "markdown",
   "id": "7a4c1054",
   "metadata": {},
   "source": [
    "## 연습문제"
   ]
  },
  {
   "cell_type": "markdown",
   "id": "5b9bf9f4",
   "metadata": {},
   "source": [
    "### 사용자로부터 두 개의 정수를 입력받아 덧셈과 곱셈의 결과를 출력하는 프로그램을 작성하라"
   ]
  },
  {
   "cell_type": "code",
   "execution_count": 8,
   "id": "e366d84b",
   "metadata": {},
   "outputs": [
    {
     "name": "stdout",
     "output_type": "stream",
     "text": [
      "3\n",
      "4\n",
      "sum: 7\n",
      "mul: 12\n"
     ]
    }
   ],
   "source": [
    "num1 = int(input())\n",
    "num2 = int(input())\n",
    "print('sum:', num1 + num2)\n",
    "print('mul:',num1 * num2)"
   ]
  }
 ],
 "metadata": {
  "kernelspec": {
   "display_name": "Python 3",
   "language": "python",
   "name": "python3"
  },
  "language_info": {
   "codemirror_mode": {
    "name": "ipython",
    "version": 3
   },
   "file_extension": ".py",
   "mimetype": "text/x-python",
   "name": "python",
   "nbconvert_exporter": "python",
   "pygments_lexer": "ipython3",
   "version": "3.8.8"
  }
 },
 "nbformat": 4,
 "nbformat_minor": 5
}

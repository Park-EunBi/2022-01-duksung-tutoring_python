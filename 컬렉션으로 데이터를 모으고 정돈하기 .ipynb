{
 "cells": [
  {
   "cell_type": "markdown",
   "id": "390591d2",
   "metadata": {},
   "source": [
    "# 컬렉션으로 데이터를 모으고 정돈하기"
   ]
  },
  {
   "cell_type": "markdown",
   "id": "f9e319ba",
   "metadata": {},
   "source": [
    "## 시퀸스"
   ]
  },
  {
   "cell_type": "markdown",
   "id": "6b326f02",
   "metadata": {},
   "source": [
    "### 순서가 있는 데이터 구조 "
   ]
  },
  {
   "cell_type": "markdown",
   "id": "21fcf660",
   "metadata": {},
   "source": [
    "요소에 번호를 부하고 순서대로 관리하는 데이터 구조"
   ]
  },
  {
   "cell_type": "markdown",
   "id": "29384c9f",
   "metadata": {},
   "source": [
    "## 리스트"
   ]
  },
  {
   "cell_type": "markdown",
   "id": "63224e68",
   "metadata": {},
   "source": [
    "다양한 데이터를 담을 수 있고 내용을 변경할 수 있는 시퀸스"
   ]
  },
  {
   "cell_type": "markdown",
   "id": "43c29337",
   "metadata": {},
   "source": [
    "### 리스트 사용하기"
   ]
  },
  {
   "cell_type": "code",
   "execution_count": 20,
   "id": "ef75526b",
   "metadata": {},
   "outputs": [
    {
     "data": {
      "text/plain": [
       "[1, 2, 3]"
      ]
     },
     "execution_count": 20,
     "metadata": {},
     "output_type": "execute_result"
    }
   ],
   "source": [
    "[]\n",
    "a = []\n",
    "[1, 2, 3]\n"
   ]
  },
  {
   "cell_type": "markdown",
   "id": "5c953ddd",
   "metadata": {},
   "source": [
    "### 길이 세기 "
   ]
  },
  {
   "cell_type": "code",
   "execution_count": 22,
   "id": "baef051b",
   "metadata": {},
   "outputs": [
    {
     "data": {
      "text/plain": [
       "5"
      ]
     },
     "execution_count": 22,
     "metadata": {},
     "output_type": "execute_result"
    }
   ],
   "source": [
    "num = [1, 2, 3, 4, 5]\n",
    "len(num)"
   ]
  },
  {
   "cell_type": "markdown",
   "id": "592f1afc",
   "metadata": {},
   "source": [
    "### 연결과 반복"
   ]
  },
  {
   "cell_type": "code",
   "execution_count": 24,
   "id": "589b66b8",
   "metadata": {},
   "outputs": [
    {
     "data": {
      "text/plain": [
       "[1, 2, 3, 4, 5, 1, 2, 3, 4, 5]"
      ]
     },
     "execution_count": 24,
     "metadata": {},
     "output_type": "execute_result"
    }
   ],
   "source": [
    "num + num"
   ]
  },
  {
   "cell_type": "code",
   "execution_count": 26,
   "id": "38ff44f8",
   "metadata": {},
   "outputs": [
    {
     "data": {
      "text/plain": [
       "[1, 2, 3, 4, 5, 1, 2, 3, 4, 5]"
      ]
     },
     "execution_count": 26,
     "metadata": {},
     "output_type": "execute_result"
    }
   ],
   "source": [
    "a = num * 2\n",
    "a"
   ]
  },
  {
   "cell_type": "markdown",
   "id": "ce867879",
   "metadata": {},
   "source": [
    "### 리스트의 요소"
   ]
  },
  {
   "cell_type": "code",
   "execution_count": 30,
   "id": "99acff2c",
   "metadata": {},
   "outputs": [
    {
     "data": {
      "text/plain": [
       "5"
      ]
     },
     "execution_count": 30,
     "metadata": {},
     "output_type": "execute_result"
    }
   ],
   "source": [
    "num[0]\n",
    "num [-1]"
   ]
  },
  {
   "cell_type": "code",
   "execution_count": 31,
   "id": "284583a6",
   "metadata": {},
   "outputs": [
    {
     "data": {
      "text/plain": [
       "[10, 2, 3, 4, 5]"
      ]
     },
     "execution_count": 31,
     "metadata": {},
     "output_type": "execute_result"
    }
   ],
   "source": [
    "num[0] = 10\n",
    "num"
   ]
  },
  {
   "cell_type": "markdown",
   "id": "6eab3e4a",
   "metadata": {},
   "source": [
    "### 슬라이싱"
   ]
  },
  {
   "cell_type": "markdown",
   "id": "8e1807ff",
   "metadata": {},
   "source": [
    "리스트에 있는 요소들을 범위를 정하여 선택하는 것 "
   ]
  },
  {
   "cell_type": "code",
   "execution_count": 7,
   "id": "fafdd027",
   "metadata": {},
   "outputs": [],
   "source": [
    "# 리스트_이름[시작_위치:종료_위치(미만)]"
   ]
  },
  {
   "cell_type": "code",
   "execution_count": 38,
   "id": "5ef4520d",
   "metadata": {},
   "outputs": [
    {
     "data": {
      "text/plain": [
       "[1, 2, 3, 4, 5]"
      ]
     },
     "execution_count": 38,
     "metadata": {},
     "output_type": "execute_result"
    }
   ],
   "source": [
    "num = [1, 2, 3, 4, 5]\n",
    "num\n",
    "num[0:2]\n",
    "num[:3]\n",
    "num[3:]\n",
    "num[:]"
   ]
  },
  {
   "cell_type": "code",
   "execution_count": null,
   "id": "6b0186f1",
   "metadata": {},
   "outputs": [],
   "source": [
    "# 리스트_이름[시작_위치:종료_위치(미만):간격]"
   ]
  },
  {
   "cell_type": "code",
   "execution_count": 39,
   "id": "a9a85303",
   "metadata": {},
   "outputs": [
    {
     "data": {
      "text/plain": [
       "[1, 2, 3, 4, 5]"
      ]
     },
     "execution_count": 39,
     "metadata": {},
     "output_type": "execute_result"
    }
   ],
   "source": [
    "num"
   ]
  },
  {
   "cell_type": "code",
   "execution_count": 40,
   "id": "171d74c4",
   "metadata": {},
   "outputs": [
    {
     "data": {
      "text/plain": [
       "[1, 3, 5]"
      ]
     },
     "execution_count": 40,
     "metadata": {},
     "output_type": "execute_result"
    }
   ],
   "source": [
    "num[::2]"
   ]
  },
  {
   "cell_type": "code",
   "execution_count": 41,
   "id": "a9ca3837",
   "metadata": {},
   "outputs": [
    {
     "data": {
      "text/plain": [
       "[5, 4, 3, 2, 1]"
      ]
     },
     "execution_count": 41,
     "metadata": {},
     "output_type": "execute_result"
    }
   ],
   "source": [
    "num[::-1]"
   ]
  },
  {
   "cell_type": "markdown",
   "id": "aa8162f7",
   "metadata": {},
   "source": [
    "### 시퀸스 복제 "
   ]
  },
  {
   "cell_type": "markdown",
   "id": "370090b5",
   "metadata": {},
   "source": [
    "슬라이싱 연산으로 구한 시퀸스는 원본 시퀸스가 아니다.     \n",
    "복제된 사본이므로 시퀸스로 값을 변경해도 원본에 영향을 끼치지 않는다."
   ]
  },
  {
   "cell_type": "code",
   "execution_count": 47,
   "id": "f3223865",
   "metadata": {},
   "outputs": [
    {
     "data": {
      "text/plain": [
       "[1, 2, 3, 4, 5]"
      ]
     },
     "execution_count": 47,
     "metadata": {},
     "output_type": "execute_result"
    }
   ],
   "source": [
    "num\n",
    "copy = num[:]\n",
    "copy"
   ]
  },
  {
   "cell_type": "code",
   "execution_count": 50,
   "id": "a45d7284",
   "metadata": {},
   "outputs": [
    {
     "data": {
      "text/plain": [
       "[1, 2, 3, 4, 5]"
      ]
     },
     "execution_count": 50,
     "metadata": {},
     "output_type": "execute_result"
    }
   ],
   "source": [
    "copy[0] = 10\n",
    "copy\n",
    "num"
   ]
  },
  {
   "cell_type": "code",
   "execution_count": 54,
   "id": "8307cd93",
   "metadata": {},
   "outputs": [
    {
     "data": {
      "text/plain": [
       "True"
      ]
     },
     "execution_count": 54,
     "metadata": {},
     "output_type": "execute_result"
    }
   ],
   "source": [
    "copy == num\n",
    "copy[0] = 10\n",
    "copy == num"
   ]
  },
  {
   "cell_type": "code",
   "execution_count": null,
   "id": "09642f4e",
   "metadata": {},
   "outputs": [],
   "source": []
  },
  {
   "cell_type": "markdown",
   "id": "908add93",
   "metadata": {},
   "source": [
    "### 통계 함수 "
   ]
  },
  {
   "cell_type": "code",
   "execution_count": 56,
   "id": "56962440",
   "metadata": {},
   "outputs": [],
   "source": [
    "num = [1, 2, 3, 4, 5]"
   ]
  },
  {
   "cell_type": "code",
   "execution_count": 57,
   "id": "35dbcedd",
   "metadata": {},
   "outputs": [
    {
     "data": {
      "text/plain": [
       "15"
      ]
     },
     "execution_count": 57,
     "metadata": {},
     "output_type": "execute_result"
    }
   ],
   "source": [
    "sum(num)"
   ]
  },
  {
   "cell_type": "code",
   "execution_count": 58,
   "id": "2607f55a",
   "metadata": {},
   "outputs": [
    {
     "data": {
      "text/plain": [
       "1"
      ]
     },
     "execution_count": 58,
     "metadata": {},
     "output_type": "execute_result"
    }
   ],
   "source": [
    "min(num)"
   ]
  },
  {
   "cell_type": "code",
   "execution_count": 59,
   "id": "5fe6c304",
   "metadata": {},
   "outputs": [
    {
     "data": {
      "text/plain": [
       "5"
      ]
     },
     "execution_count": 59,
     "metadata": {},
     "output_type": "execute_result"
    }
   ],
   "source": [
    "max(num)"
   ]
  },
  {
   "cell_type": "markdown",
   "id": "03a12bb5",
   "metadata": {},
   "source": [
    "### 시퀸스 조작 메서드 "
   ]
  },
  {
   "cell_type": "code",
   "execution_count": 60,
   "id": "42452db6",
   "metadata": {},
   "outputs": [
    {
     "data": {
      "text/plain": [
       "[1, 2, 3, 4, 5]"
      ]
     },
     "execution_count": 60,
     "metadata": {},
     "output_type": "execute_result"
    }
   ],
   "source": [
    "num"
   ]
  },
  {
   "cell_type": "code",
   "execution_count": 62,
   "id": "ad9db7b0",
   "metadata": {},
   "outputs": [
    {
     "data": {
      "text/plain": [
       "[1, 2, 3, 4, 5, 100, 100]"
      ]
     },
     "execution_count": 62,
     "metadata": {},
     "output_type": "execute_result"
    }
   ],
   "source": [
    "num.append(100)\n",
    "num"
   ]
  },
  {
   "cell_type": "code",
   "execution_count": 65,
   "id": "c41981b4",
   "metadata": {},
   "outputs": [
    {
     "data": {
      "text/plain": [
       "[1, 2, 3, 300, 4, 5]"
      ]
     },
     "execution_count": 65,
     "metadata": {},
     "output_type": "execute_result"
    }
   ],
   "source": [
    "num = [1, 2, 3, 4, 5]\n",
    "num.insert(3, 300)\n",
    "num"
   ]
  },
  {
   "cell_type": "code",
   "execution_count": 69,
   "id": "13fe6947",
   "metadata": {},
   "outputs": [
    {
     "data": {
      "text/plain": [
       "[1, 2, 3, 4, 5, 10, 20, 30]"
      ]
     },
     "execution_count": 69,
     "metadata": {},
     "output_type": "execute_result"
    }
   ],
   "source": [
    "num = [1, 2, 3, 4, 5]\n",
    "num2 = [10, 20 ,30 ]\n",
    "num.extend(num2)\n",
    "num"
   ]
  },
  {
   "cell_type": "code",
   "execution_count": 71,
   "id": "3daa9b7f",
   "metadata": {},
   "outputs": [
    {
     "data": {
      "text/plain": [
       "10"
      ]
     },
     "execution_count": 71,
     "metadata": {},
     "output_type": "execute_result"
    }
   ],
   "source": [
    "num.pop()\n",
    "num\n",
    "num.pop()"
   ]
  },
  {
   "cell_type": "code",
   "execution_count": 78,
   "id": "139fe164",
   "metadata": {},
   "outputs": [
    {
     "data": {
      "text/plain": [
       "[2, 3, 4, 5]"
      ]
     },
     "execution_count": 78,
     "metadata": {},
     "output_type": "execute_result"
    }
   ],
   "source": [
    "num = [1, 2, 3, 4, 5]\n",
    "num.remove(1)\n",
    "num"
   ]
  },
  {
   "cell_type": "markdown",
   "id": "d41a06c6",
   "metadata": {},
   "source": [
    "## 튜플"
   ]
  },
  {
   "cell_type": "markdown",
   "id": "9b8285b2",
   "metadata": {},
   "source": [
    "리스트와 비슷하지만 한번 담은 데이터를 바꿀 수 없다     \n",
    "\n",
    "처음 정의할 때부터 담을 데이터가 결정되어 있어야 하고, 그 뒤에는 데이터를 추가할 수 없다"
   ]
  },
  {
   "cell_type": "markdown",
   "id": "7fa76c5d",
   "metadata": {},
   "source": [
    "### 튜플 표현하기"
   ]
  },
  {
   "cell_type": "code",
   "execution_count": 81,
   "id": "31812413",
   "metadata": {},
   "outputs": [
    {
     "data": {
      "text/plain": [
       "(1, 2, 3)"
      ]
     },
     "execution_count": 81,
     "metadata": {},
     "output_type": "execute_result"
    }
   ],
   "source": [
    "()\n",
    "a= (1, 2, 3)\n",
    "a"
   ]
  },
  {
   "cell_type": "code",
   "execution_count": 86,
   "id": "d137eaaa",
   "metadata": {},
   "outputs": [
    {
     "ename": "TypeError",
     "evalue": "'tuple' object does not support item assignment",
     "output_type": "error",
     "traceback": [
      "\u001b[1;31m---------------------------------------------------------------------------\u001b[0m",
      "\u001b[1;31mTypeError\u001b[0m                                 Traceback (most recent call last)",
      "\u001b[1;32m<ipython-input-86-8e7cdc1dcf19>\u001b[0m in \u001b[0;36m<module>\u001b[1;34m\u001b[0m\n\u001b[0;32m      2\u001b[0m \u001b[0ma\u001b[0m\u001b[1;33m[\u001b[0m\u001b[1;36m0\u001b[0m\u001b[1;33m]\u001b[0m\u001b[1;33m\u001b[0m\u001b[1;33m\u001b[0m\u001b[0m\n\u001b[0;32m      3\u001b[0m \u001b[0ma\u001b[0m\u001b[1;33m[\u001b[0m\u001b[1;33m:\u001b[0m\u001b[1;33m:\u001b[0m\u001b[1;33m-\u001b[0m\u001b[1;36m1\u001b[0m\u001b[1;33m]\u001b[0m\u001b[1;33m\u001b[0m\u001b[1;33m\u001b[0m\u001b[0m\n\u001b[1;32m----> 4\u001b[1;33m \u001b[0ma\u001b[0m\u001b[1;33m[\u001b[0m\u001b[1;36m0\u001b[0m\u001b[1;33m]\u001b[0m \u001b[1;33m=\u001b[0m \u001b[1;36m10\u001b[0m\u001b[1;33m\u001b[0m\u001b[1;33m\u001b[0m\u001b[0m\n\u001b[0m",
      "\u001b[1;31mTypeError\u001b[0m: 'tuple' object does not support item assignment"
     ]
    }
   ],
   "source": [
    "len(a)\n",
    "a[0]\n",
    "a[::-1]\n",
    "a[0] = 10"
   ]
  },
  {
   "cell_type": "markdown",
   "id": "6b0edb1f",
   "metadata": {},
   "source": [
    "### 시퀸스 연산 "
   ]
  },
  {
   "cell_type": "code",
   "execution_count": null,
   "id": "2a2eae91",
   "metadata": {},
   "outputs": [],
   "source": [
    "num = (1, 2, 3, 4, 5)\n",
    "print(len(num)) # 5\n",
    "print(num[0]) # 1\n",
    "print(num[::-1)) # 5, 4, 3, 2, 1\n",
    "print(num + (10, 20)) # 1, 2, 3, 4, 5, 10, 20 \n",
    "\n",
    "num[0] = 0 # error \n",
    "num.remove(1) # error "
   ]
  },
  {
   "cell_type": "markdown",
   "id": "94f1de31",
   "metadata": {},
   "source": [
    "## 레인지"
   ]
  },
  {
   "cell_type": "markdown",
   "id": "52c12547",
   "metadata": {},
   "source": [
    "등차수열을 시퀸스로 표현할 때 사용 "
   ]
  },
  {
   "cell_type": "markdown",
   "id": "87a522e5",
   "metadata": {},
   "source": [
    "### 레인지로 표현"
   ]
  },
  {
   "cell_type": "code",
   "execution_count": 90,
   "id": "234b1e1e",
   "metadata": {},
   "outputs": [
    {
     "data": {
      "text/plain": [
       "[1, 3, 5, 7, 9]"
      ]
     },
     "execution_count": 90,
     "metadata": {},
     "output_type": "execute_result"
    }
   ],
   "source": [
    "a = list(range(10))\n",
    "a\n",
    "a = list(range(1, 10))\n",
    "a\n",
    "a= list(range(1, 10, 2))\n",
    "a \n",
    "\n"
   ]
  },
  {
   "cell_type": "code",
   "execution_count": 94,
   "id": "3d14030f",
   "metadata": {},
   "outputs": [
    {
     "data": {
      "text/plain": [
       "range(20, 40, 4)"
      ]
     },
     "execution_count": 94,
     "metadata": {},
     "output_type": "execute_result"
    }
   ],
   "source": [
    "a = list(range(0, 100, 2))\n",
    "a[10]\n",
    "\n",
    "range(0, 100, 2)[10:20:2]\n",
    "\n"
   ]
  },
  {
   "cell_type": "markdown",
   "id": "3c16dc4c",
   "metadata": {},
   "source": [
    "### 문자열은 시퀸스다 "
   ]
  },
  {
   "cell_type": "code",
   "execution_count": 98,
   "id": "cd86c05f",
   "metadata": {},
   "outputs": [
    {
     "ename": "TypeError",
     "evalue": "'str' object does not support item assignment",
     "output_type": "error",
     "traceback": [
      "\u001b[1;31m---------------------------------------------------------------------------\u001b[0m",
      "\u001b[1;31mTypeError\u001b[0m                                 Traceback (most recent call last)",
      "\u001b[1;32m<ipython-input-98-6725ff81dd26>\u001b[0m in \u001b[0;36m<module>\u001b[1;34m\u001b[0m\n\u001b[0;32m      1\u001b[0m \u001b[0mmsg\u001b[0m \u001b[1;33m=\u001b[0m \u001b[1;34m'hello'\u001b[0m\u001b[1;33m\u001b[0m\u001b[1;33m\u001b[0m\u001b[0m\n\u001b[0;32m      2\u001b[0m \u001b[0mlist\u001b[0m\u001b[1;33m(\u001b[0m\u001b[0mmsg\u001b[0m\u001b[1;33m)\u001b[0m\u001b[1;33m\u001b[0m\u001b[1;33m\u001b[0m\u001b[0m\n\u001b[1;32m----> 3\u001b[1;33m \u001b[0mmsg\u001b[0m\u001b[1;33m[\u001b[0m\u001b[1;36m0\u001b[0m\u001b[1;33m]\u001b[0m \u001b[1;33m=\u001b[0m \u001b[1;34m'a'\u001b[0m\u001b[1;33m\u001b[0m\u001b[1;33m\u001b[0m\u001b[0m\n\u001b[0m",
      "\u001b[1;31mTypeError\u001b[0m: 'str' object does not support item assignment"
     ]
    }
   ],
   "source": [
    "msg = 'hello'\n",
    "list(msg)\n",
    "msg[0] = 'a'"
   ]
  },
  {
   "cell_type": "markdown",
   "id": "eef83804",
   "metadata": {},
   "source": [
    "### join 메서드"
   ]
  },
  {
   "cell_type": "markdown",
   "id": "e258798c",
   "metadata": {},
   "source": [
    "문자열을 담은 시퀸스를 입력 받아, 문자열을 연결한다 "
   ]
  },
  {
   "cell_type": "code",
   "execution_count": 100,
   "id": "3d95eef3",
   "metadata": {},
   "outputs": [
    {
     "data": {
      "text/plain": [
       "'안녕하세요'"
      ]
     },
     "execution_count": 100,
     "metadata": {},
     "output_type": "execute_result"
    }
   ],
   "source": [
    "''.join(['안녕', '하세요'])"
   ]
  },
  {
   "cell_type": "code",
   "execution_count": 101,
   "id": "f1fb25dd",
   "metadata": {},
   "outputs": [
    {
     "data": {
      "text/plain": [
       "'안녕.하세요'"
      ]
     },
     "execution_count": 101,
     "metadata": {},
     "output_type": "execute_result"
    }
   ],
   "source": [
    "'.'.join(['안녕', '하세요'])"
   ]
  },
  {
   "cell_type": "code",
   "execution_count": 102,
   "id": "5c623aef",
   "metadata": {},
   "outputs": [
    {
     "data": {
      "text/plain": [
       "'안녕/하세요'"
      ]
     },
     "execution_count": 102,
     "metadata": {},
     "output_type": "execute_result"
    }
   ],
   "source": [
    "'/'.join(['안녕', '하세요'])"
   ]
  },
  {
   "cell_type": "markdown",
   "id": "4272128a",
   "metadata": {},
   "source": [
    "# 연습 문제"
   ]
  },
  {
   "cell_type": "markdown",
   "id": "10ccddd2",
   "metadata": {},
   "source": [
    "0 이상이고 100 미만 사이의 모든 8의 배수를 num 배열에 넣어라"
   ]
  },
  {
   "cell_type": "code",
   "execution_count": 105,
   "id": "398d986b",
   "metadata": {},
   "outputs": [
    {
     "data": {
      "text/plain": [
       "[0, 8, 16, 24, 32, 40, 48, 56, 64, 72, 80, 88, 96]"
      ]
     },
     "execution_count": 105,
     "metadata": {},
     "output_type": "execute_result"
    }
   ],
   "source": [
    "num = list(range(0, 100, 8))\n",
    "num"
   ]
  },
  {
   "cell_type": "markdown",
   "id": "ebbb3f82",
   "metadata": {},
   "source": [
    "전달 받은 시퀸스의 최솟값과 최댓값을 리스트에 담아 반환하는 함수 minmax()를 정의하라 "
   ]
  },
  {
   "cell_type": "code",
   "execution_count": 106,
   "id": "ff607c69",
   "metadata": {},
   "outputs": [
    {
     "data": {
      "text/plain": [
       "[1, 5]"
      ]
     },
     "execution_count": 106,
     "metadata": {},
     "output_type": "execute_result"
    }
   ],
   "source": [
    "def minmax(num):\n",
    "    minmax = []\n",
    "    minmax.append(min(num))\n",
    "    minmax.append(max(num))\n",
    "    return minmax\n",
    "\n",
    "list = [1, 2, 3, 4, 5]\n",
    "minmax(list)"
   ]
  },
  {
   "cell_type": "markdown",
   "id": "2770d4ce",
   "metadata": {},
   "source": [
    "# 매핑"
   ]
  },
  {
   "cell_type": "markdown",
   "id": "91851d44",
   "metadata": {},
   "source": [
    "데이터와 값 역할을 하는 데이터를 짝 지어 관리하는 방법"
   ]
  },
  {
   "cell_type": "markdown",
   "id": "ef273774",
   "metadata": {},
   "source": [
    "### 키와 데이터를 짝지은 구조"
   ]
  },
  {
   "cell_type": "markdown",
   "id": "1ee6d066",
   "metadata": {},
   "source": [
    "키: 저장된 데이터를 구별하고 가리키는 데 쓰이고    \n",
    "\n",
    "값: 키와 연결되어 저장된 데이터가 저장된다     \n",
    "\n",
    "데이터를 저장할 때 순서 정보보다 의미 있는 식별 방법이 필요할 때 매핑을 사용한다"
   ]
  },
  {
   "cell_type": "markdown",
   "id": "0809f6eb",
   "metadata": {},
   "source": [
    "### 사전 (dict)"
   ]
  },
  {
   "cell_type": "markdown",
   "id": "276f31b0",
   "metadata": {},
   "source": [
    "파이썬 매핑 컬렉션 중 가장 대표적이고 활용도가 높은 컬렉션 "
   ]
  },
  {
   "cell_type": "code",
   "execution_count": null,
   "id": "97856201",
   "metadata": {},
   "outputs": [],
   "source": [
    "{\n",
    "    'apple': 1000,\n",
    "    'banana' : 2000\n",
    "}\n",
    "\n"
   ]
  },
  {
   "cell_type": "markdown",
   "id": "80101f9f",
   "metadata": {},
   "source": [
    "### 사전 표현하기"
   ]
  },
  {
   "cell_type": "code",
   "execution_count": null,
   "id": "3d36dbec",
   "metadata": {},
   "outputs": [],
   "source": [
    "{ \n",
    "    키1: 값1, \n",
    "    키2: 값2,\n",
    "    키3: 값3\n",
    "}\n",
    "# 사전을 정의할 때 키가 중복되어 저장되면 안된다 "
   ]
  },
  {
   "cell_type": "markdown",
   "id": "a54fe7af",
   "metadata": {},
   "source": [
    "# 연습해보기 "
   ]
  },
  {
   "cell_type": "markdown",
   "id": "32bef551",
   "metadata": {},
   "source": [
    "아메리카노: 2500, 카페라떼:  3000, 딸기 주스: 3000인 메뉴판을 사전으로 나타내보자"
   ]
  },
  {
   "cell_type": "code",
   "execution_count": 107,
   "id": "157fecce",
   "metadata": {},
   "outputs": [
    {
     "data": {
      "text/plain": [
       "{'아메리카노': 2500, '카페라떼': 3000, '딸기 주스': 3000}"
      ]
     },
     "execution_count": 107,
     "metadata": {},
     "output_type": "execute_result"
    }
   ],
   "source": [
    "menu = {\n",
    "    '아메리카노': 2500, \n",
    "    '카페라떼': 3000,\n",
    "    '딸기 주스': 3000\n",
    "}\n",
    "\n",
    "menu"
   ]
  },
  {
   "cell_type": "markdown",
   "id": "ffe899bb",
   "metadata": {},
   "source": [
    "### 키로 사용할 수 있는 데이터"
   ]
  },
  {
   "cell_type": "code",
   "execution_count": null,
   "id": "af70440a",
   "metadata": {},
   "outputs": [],
   "source": [
    "{\n",
    "    (1, 2, 3): 3000,\n",
    "    123: 300\n",
    "}"
   ]
  },
  {
   "cell_type": "markdown",
   "id": "438bef6e",
   "metadata": {},
   "source": [
    "### 키 검사하기 "
   ]
  },
  {
   "cell_type": "code",
   "execution_count": 108,
   "id": "86fc97b5",
   "metadata": {},
   "outputs": [
    {
     "data": {
      "text/plain": [
       "True"
      ]
     },
     "execution_count": 108,
     "metadata": {},
     "output_type": "execute_result"
    }
   ],
   "source": [
    "menu = {\n",
    "    '아메리카노': 2500, \n",
    "    '카페라떼': 3000,\n",
    "    '딸기 주스': 3000\n",
    "}\n",
    "\n",
    "'아메리카노' in menu"
   ]
  },
  {
   "cell_type": "markdown",
   "id": "75449774",
   "metadata": {},
   "source": [
    "### 요소(키-값 쌍)"
   ]
  },
  {
   "cell_type": "code",
   "execution_count": 112,
   "id": "f1e36349",
   "metadata": {},
   "outputs": [
    {
     "data": {
      "text/plain": [
       "{'아메리카노': 4000, '카페라떼': 3000, '딸기 주스': 3000}"
      ]
     },
     "execution_count": 112,
     "metadata": {},
     "output_type": "execute_result"
    }
   ],
   "source": [
    "len(menu)\n",
    "menu['아메리카노'] = 4000\n",
    "menu\n",
    "\n",
    "k for k, v in menu.items() if v == '3000'\n",
    "\n",
    "menu2 = {v: k for k,v menu.items()}"
   ]
  },
  {
   "cell_type": "markdown",
   "id": "3524c17d",
   "metadata": {},
   "source": [
    "### 다른 사전의 내용으로 덮어쓰기 "
   ]
  },
  {
   "cell_type": "code",
   "execution_count": 115,
   "id": "a2b1688b",
   "metadata": {},
   "outputs": [
    {
     "data": {
      "text/plain": [
       "{'아메리카노': 4000, '카페라떼': 3000, '딸기 주스': 3000, '토마토쥬스': 3000}"
      ]
     },
     "execution_count": 115,
     "metadata": {},
     "output_type": "execute_result"
    }
   ],
   "source": [
    "menu.update({'토마토쥬스': 3000})\n",
    "menu"
   ]
  },
  {
   "cell_type": "markdown",
   "id": "8ffaa96f",
   "metadata": {},
   "source": [
    "### 요소 삭제하기 "
   ]
  },
  {
   "cell_type": "code",
   "execution_count": 119,
   "id": "3e150e7c",
   "metadata": {},
   "outputs": [
    {
     "data": {
      "text/plain": [
       "<function dict.clear>"
      ]
     },
     "execution_count": 119,
     "metadata": {},
     "output_type": "execute_result"
    }
   ],
   "source": [
    "\n",
    "menu.clear"
   ]
  },
  {
   "cell_type": "markdown",
   "id": "eb06fbda",
   "metadata": {},
   "source": [
    "## 시퀸스와 매핑을 서로 변환하기 "
   ]
  },
  {
   "cell_type": "markdown",
   "id": "5013cc5d",
   "metadata": {},
   "source": [
    "키를 담은 시퀸스와 값을 담은시퀸스를 짝지어서 맵핑을 해보자 "
   ]
  },
  {
   "cell_type": "markdown",
   "id": "5327db99",
   "metadata": {},
   "source": [
    "### 키 시퀸스와 값 시퀸스로 사전 정의하기 "
   ]
  },
  {
   "cell_type": "code",
   "execution_count": 122,
   "id": "d9b39fd4",
   "metadata": {},
   "outputs": [
    {
     "data": {
      "text/plain": [
       "{'아메리카노': 1000, '카페라떼': 2000}"
      ]
     },
     "execution_count": 122,
     "metadata": {},
     "output_type": "execute_result"
    }
   ],
   "source": [
    "price = [1000, 2000]\n",
    "dirnk =['아메리카노','카페라떼']\n",
    "\n",
    "menu = dict(zip(dirnk, price))\n",
    "menu"
   ]
  },
  {
   "cell_type": "markdown",
   "id": "6db0caf8",
   "metadata": {},
   "source": [
    "### 사전에서 키 시퀸스와 값 시퀸스 구하기"
   ]
  },
  {
   "cell_type": "code",
   "execution_count": 125,
   "id": "3febbcaa",
   "metadata": {},
   "outputs": [
    {
     "data": {
      "text/plain": [
       "dict_items([('아메리카노', 1000), ('카페라떼', 2000)])"
      ]
     },
     "execution_count": 125,
     "metadata": {},
     "output_type": "execute_result"
    }
   ],
   "source": [
    "menu.keys()\n",
    "menu.values()\n",
    "menu.items()"
   ]
  },
  {
   "cell_type": "markdown",
   "id": "dc18ee36",
   "metadata": {},
   "source": [
    "## 집합"
   ]
  },
  {
   "cell_type": "markdown",
   "id": "b7b7fbf0",
   "metadata": {},
   "source": [
    "데이터를 모아둔 컬렉션이라는 점에서 다른 컬렉션과 비슷해보이지만 원소에 순서나 키를 붙여 관리하지 않는다 "
   ]
  },
  {
   "cell_type": "markdown",
   "id": "103d547e",
   "metadata": {},
   "source": [
    "### 집합 표현 하기 "
   ]
  },
  {
   "cell_type": "code",
   "execution_count": 128,
   "id": "dac3adbc",
   "metadata": {},
   "outputs": [
    {
     "data": {
      "text/plain": [
       "set()"
      ]
     },
     "execution_count": 128,
     "metadata": {},
     "output_type": "execute_result"
    }
   ],
   "source": [
    "{1, 2, 3}\n",
    "{\n",
    "    1: 1000,\n",
    "    2: 2000\n",
    "}\n",
    "\n",
    "set()\n",
    "{}"
   ]
  },
  {
   "cell_type": "markdown",
   "id": "42849503",
   "metadata": {},
   "source": [
    "### 시퀸스를 집합으로 변환하기 "
   ]
  },
  {
   "cell_type": "code",
   "execution_count": 129,
   "id": "2edbf414",
   "metadata": {},
   "outputs": [
    {
     "data": {
      "text/plain": [
       "{1, 2, 3, 4, 5, 6}"
      ]
     },
     "execution_count": 129,
     "metadata": {},
     "output_type": "execute_result"
    }
   ],
   "source": [
    "a = [1, 1, 1, 2, 3, 4, 5, 6]\n",
    "set(a)"
   ]
  },
  {
   "cell_type": "markdown",
   "id": "ed90b5da",
   "metadata": {},
   "source": [
    "### 집합 연산 "
   ]
  },
  {
   "cell_type": "code",
   "execution_count": 130,
   "id": "966b9316",
   "metadata": {},
   "outputs": [
    {
     "data": {
      "text/plain": [
       "{1, 2, 3}"
      ]
     },
     "execution_count": 130,
     "metadata": {},
     "output_type": "execute_result"
    }
   ],
   "source": [
    "num1 = {1, 2, 3, 10}\n",
    "num2 = {10, 20, 30, 40 }\n",
    "\n",
    "num1 - num2"
   ]
  },
  {
   "cell_type": "markdown",
   "id": "fd38fa74",
   "metadata": {},
   "source": [
    "### 원소 변경하기"
   ]
  },
  {
   "cell_type": "code",
   "execution_count": null,
   "id": "0ceb1931",
   "metadata": {},
   "outputs": [],
   "source": [
    "# add()\n",
    "# discard()\n",
    "# remove() - 제거할 원소가 없으면 오류 \n",
    "# pop() - 아무 원소나 꺼냄 \n",
    "# clear() "
   ]
  }
 ],
 "metadata": {
  "kernelspec": {
   "display_name": "Python 3",
   "language": "python",
   "name": "python3"
  },
  "language_info": {
   "codemirror_mode": {
    "name": "ipython",
    "version": 3
   },
   "file_extension": ".py",
   "mimetype": "text/x-python",
   "name": "python",
   "nbconvert_exporter": "python",
   "pygments_lexer": "ipython3",
   "version": "3.8.8"
  }
 },
 "nbformat": 4,
 "nbformat_minor": 5
}

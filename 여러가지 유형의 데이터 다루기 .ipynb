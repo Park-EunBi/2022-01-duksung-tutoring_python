{
 "cells": [
  {
   "cell_type": "markdown",
   "id": "1f48a689",
   "metadata": {},
   "source": [
    "## 문자열"
   ]
  },
  {
   "cell_type": "markdown",
   "id": "1225a667",
   "metadata": {},
   "source": [
    "### 문자열 표기 "
   ]
  },
  {
   "cell_type": "code",
   "execution_count": 1,
   "id": "3006bcd4",
   "metadata": {},
   "outputs": [
    {
     "data": {
      "text/plain": [
       "'안녕하세요'"
      ]
     },
     "execution_count": 1,
     "metadata": {},
     "output_type": "execute_result"
    }
   ],
   "source": [
    "'안녕하세요'"
   ]
  },
  {
   "cell_type": "code",
   "execution_count": 2,
   "id": "05cafed4",
   "metadata": {},
   "outputs": [
    {
     "data": {
      "text/plain": [
       "'안녕하세요'"
      ]
     },
     "execution_count": 2,
     "metadata": {},
     "output_type": "execute_result"
    }
   ],
   "source": [
    "\"안녕하세요\""
   ]
  },
  {
   "cell_type": "markdown",
   "id": "70202d6d",
   "metadata": {},
   "source": [
    "### 이스케이프로 특별한 문자 입력하기 "
   ]
  },
  {
   "cell_type": "code",
   "execution_count": 5,
   "id": "2d618dbd",
   "metadata": {},
   "outputs": [
    {
     "name": "stdout",
     "output_type": "stream",
     "text": [
      "today's coffee \n",
      "\"아메리카노\"\n"
     ]
    }
   ],
   "source": [
    "text = 'today\\'s coffee \\n\"아메리카노\"'\n",
    "print(text)"
   ]
  },
  {
   "cell_type": "code",
   "execution_count": 6,
   "id": "1f20e244",
   "metadata": {},
   "outputs": [
    {
     "data": {
      "text/plain": [
       "'today\\'s coffee \\n\"아메리카노\"'"
      ]
     },
     "execution_count": 6,
     "metadata": {},
     "output_type": "execute_result"
    }
   ],
   "source": [
    "'today\\'s coffee \\n\"아메리카노\"'"
   ]
  },
  {
   "cell_type": "markdown",
   "id": "761a8cbd",
   "metadata": {},
   "source": [
    "### 여러 행의 문자열 표기 "
   ]
  },
  {
   "cell_type": "code",
   "execution_count": 7,
   "id": "4cb37674",
   "metadata": {},
   "outputs": [
    {
     "name": "stdout",
     "output_type": "stream",
     "text": [
      "안녕하세요 \n",
      "저는\n",
      "오늘 \n",
      "아메리카노를 \n",
      "마셨습니다\n"
     ]
    }
   ],
   "source": [
    "text = '안녕하세요 \\n저는\\n오늘 \\n아메리카노를 \\n마셨습니다'\n",
    "print(text)"
   ]
  },
  {
   "cell_type": "code",
   "execution_count": 8,
   "id": "c76c9ea8",
   "metadata": {},
   "outputs": [
    {
     "name": "stdout",
     "output_type": "stream",
     "text": [
      "\n",
      "안녕하세요 \n",
      "저는\n",
      "오늘 \n",
      "아메리카노를 \n",
      "마셨습니다\n",
      "\n"
     ]
    }
   ],
   "source": [
    "text = \"\"\"\n",
    "안녕하세요 \n",
    "저는\n",
    "오늘 \n",
    "아메리카노를 \n",
    "마셨습니다\n",
    "\"\"\"\n",
    "\n",
    "print(text)"
   ]
  },
  {
   "cell_type": "markdown",
   "id": "dca7a487",
   "metadata": {},
   "source": [
    "## 문자열 연산"
   ]
  },
  {
   "cell_type": "markdown",
   "id": "b9de1f98",
   "metadata": {},
   "source": [
    "### 문자열의 연결과 반복 "
   ]
  },
  {
   "cell_type": "code",
   "execution_count": 10,
   "id": "9cdb8327",
   "metadata": {},
   "outputs": [
    {
     "name": "stdout",
     "output_type": "stream",
     "text": [
      "아메리카노\n",
      "아메아메아메\n"
     ]
    }
   ],
   "source": [
    "text = '아메' + '리카노'\n",
    "print(text)\n",
    "\n",
    "text = '아메' * 3\n",
    "print(text)"
   ]
  },
  {
   "cell_type": "markdown",
   "id": "702974a3",
   "metadata": {},
   "source": [
    "### 문자열의 길이 세기"
   ]
  },
  {
   "cell_type": "code",
   "execution_count": 11,
   "id": "97da3489",
   "metadata": {},
   "outputs": [
    {
     "name": "stdout",
     "output_type": "stream",
     "text": [
      "5\n"
     ]
    }
   ],
   "source": [
    "text = \"안녕하세요\"\n",
    "print(len(text))"
   ]
  },
  {
   "cell_type": "markdown",
   "id": "9076d187",
   "metadata": {},
   "source": [
    "### 특정 위치의 문자를 확인하기"
   ]
  },
  {
   "cell_type": "code",
   "execution_count": 13,
   "id": "c053490e",
   "metadata": {},
   "outputs": [
    {
     "data": {
      "text/plain": [
       "'기'"
      ]
     },
     "execution_count": 13,
     "metadata": {},
     "output_type": "execute_result"
    }
   ],
   "source": [
    "text = '딸기 주스'\n",
    "text[1]"
   ]
  },
  {
   "cell_type": "markdown",
   "id": "e2eb3f16",
   "metadata": {},
   "source": [
    "### 문자열 검색 "
   ]
  },
  {
   "cell_type": "code",
   "execution_count": 14,
   "id": "72621ffc",
   "metadata": {},
   "outputs": [
    {
     "data": {
      "text/plain": [
       "2"
      ]
     },
     "execution_count": 14,
     "metadata": {},
     "output_type": "execute_result"
    }
   ],
   "source": [
    "book = '안나 카레니나'\n",
    "book.count('나')"
   ]
  },
  {
   "cell_type": "code",
   "execution_count": 15,
   "id": "18dd507b",
   "metadata": {},
   "outputs": [
    {
     "data": {
      "text/plain": [
       "3"
      ]
     },
     "execution_count": 15,
     "metadata": {},
     "output_type": "execute_result"
    }
   ],
   "source": [
    "book.find('카레')"
   ]
  },
  {
   "cell_type": "code",
   "execution_count": 16,
   "id": "7e63eb26",
   "metadata": {},
   "outputs": [
    {
     "data": {
      "text/plain": [
       "-1"
      ]
     },
     "execution_count": 16,
     "metadata": {},
     "output_type": "execute_result"
    }
   ],
   "source": [
    "book.find('카레라이스')"
   ]
  },
  {
   "cell_type": "code",
   "execution_count": 18,
   "id": "11216d7b",
   "metadata": {},
   "outputs": [
    {
     "data": {
      "text/plain": [
       "0"
      ]
     },
     "execution_count": 18,
     "metadata": {},
     "output_type": "execute_result"
    }
   ],
   "source": [
    "book.rfind('안')"
   ]
  },
  {
   "cell_type": "markdown",
   "id": "f0a026d9",
   "metadata": {},
   "source": [
    "### 대소문자 변환"
   ]
  },
  {
   "cell_type": "code",
   "execution_count": 20,
   "id": "60ed1c26",
   "metadata": {},
   "outputs": [
    {
     "data": {
      "text/plain": [
       "'apple fjdlaeasdfkajfadsflkj'"
      ]
     },
     "execution_count": 20,
     "metadata": {},
     "output_type": "execute_result"
    }
   ],
   "source": [
    "text = 'Apple fjdlaEASDfkajfadsflkj'\n",
    "text.lower()"
   ]
  },
  {
   "cell_type": "code",
   "execution_count": 21,
   "id": "bde68d0d",
   "metadata": {},
   "outputs": [
    {
     "data": {
      "text/plain": [
       "'APPLE'"
      ]
     },
     "execution_count": 21,
     "metadata": {},
     "output_type": "execute_result"
    }
   ],
   "source": [
    "text = 'Apple'\n",
    "text.upper()"
   ]
  },
  {
   "cell_type": "markdown",
   "id": "306c856f",
   "metadata": {},
   "source": [
    "### 문자열 치환 "
   ]
  },
  {
   "cell_type": "code",
   "execution_count": 24,
   "id": "d7f942c9",
   "metadata": {},
   "outputs": [
    {
     "data": {
      "text/plain": [
       "'아-메-리-카-노'"
      ]
     },
     "execution_count": 24,
     "metadata": {},
     "output_type": "execute_result"
    }
   ],
   "source": [
    "text = '아 메 리 카 노'\n",
    "text.replace(' ','')\n",
    "text.replace(' ', '-')"
   ]
  },
  {
   "cell_type": "markdown",
   "id": "ef75602d",
   "metadata": {},
   "source": [
    "### 공백 문자 정리 "
   ]
  },
  {
   "cell_type": "code",
   "execution_count": 27,
   "id": "73018bf7",
   "metadata": {},
   "outputs": [
    {
     "data": {
      "text/plain": [
       "'    오렌지 주스'"
      ]
     },
     "execution_count": 27,
     "metadata": {},
     "output_type": "execute_result"
    }
   ],
   "source": [
    "text = '    오렌지 주스    '\n",
    "text.strip()\n",
    "text.lstrip()\n",
    "text.rstrip()"
   ]
  },
  {
   "cell_type": "markdown",
   "id": "1c139241",
   "metadata": {},
   "source": [
    "### 기준을 정해 문자열 나누기"
   ]
  },
  {
   "cell_type": "code",
   "execution_count": 31,
   "id": "64f08459",
   "metadata": {},
   "outputs": [
    {
     "data": {
      "text/plain": [
       "['아메리카노', ' 딸기주스']"
      ]
     },
     "execution_count": 31,
     "metadata": {},
     "output_type": "execute_result"
    }
   ],
   "source": [
    "text = '아메리카노, 딸기주스'\n",
    "text\n",
    "text.split(',')"
   ]
  },
  {
   "cell_type": "code",
   "execution_count": 32,
   "id": "ee87bd1b",
   "metadata": {},
   "outputs": [
    {
     "data": {
      "text/plain": [
       "[' 안녕하세요 ', '저는', '오늘 ', '아메리카노를 ', '마셨습니다.']"
      ]
     },
     "execution_count": 32,
     "metadata": {},
     "output_type": "execute_result"
    }
   ],
   "source": [
    "text = \"\"\" 안녕하세요 \n",
    "저는\n",
    "오늘 \n",
    "아메리카노를 \n",
    "마셨습니다.\"\"\"\n",
    "\n",
    "text.splitlines()"
   ]
  },
  {
   "cell_type": "markdown",
   "id": "e0082d07",
   "metadata": {},
   "source": [
    "### 문자열 검사"
   ]
  },
  {
   "cell_type": "code",
   "execution_count": 37,
   "id": "66a2de3a",
   "metadata": {
    "scrolled": true
   },
   "outputs": [
    {
     "data": {
      "text/plain": [
       "True"
      ]
     },
     "execution_count": 37,
     "metadata": {},
     "output_type": "execute_result"
    }
   ],
   "source": [
    "text = '아메리카노4500원'\n",
    "text.isalpha()\n",
    "text.isnumeric()\n",
    "text.isalnum()"
   ]
  },
  {
   "cell_type": "markdown",
   "id": "5e0244cc",
   "metadata": {},
   "source": [
    "## 연습문제"
   ]
  },
  {
   "cell_type": "markdown",
   "id": "d467fdfb",
   "metadata": {},
   "source": [
    "‘I think, therefore I am’ 이라는 문자열을 ‘I eat, therefore I am’으로 치환하여 변경하기 "
   ]
  },
  {
   "cell_type": "code",
   "execution_count": 38,
   "id": "d06e7029",
   "metadata": {},
   "outputs": [
    {
     "data": {
      "text/plain": [
       "'I eat, therefore I am'"
      ]
     },
     "execution_count": 38,
     "metadata": {},
     "output_type": "execute_result"
    }
   ],
   "source": [
    "text = 'I think, therefore I am'\n",
    "text.replace('think', 'eat')"
   ]
  },
  {
   "cell_type": "markdown",
   "id": "b3e25bbc",
   "metadata": {},
   "source": [
    "## 데이터 유형의 확인과 변환"
   ]
  },
  {
   "cell_type": "markdown",
   "id": "ed737d03",
   "metadata": {},
   "source": [
    "### 데이터 유형 확인하기"
   ]
  },
  {
   "cell_type": "code",
   "execution_count": 41,
   "id": "184d25ae",
   "metadata": {},
   "outputs": [
    {
     "data": {
      "text/plain": [
       "bool"
      ]
     },
     "execution_count": 41,
     "metadata": {},
     "output_type": "execute_result"
    }
   ],
   "source": [
    "type(10)\n",
    "\n",
    "text = 'abc'\n",
    "type(text)\n",
    "\n",
    "type(False)"
   ]
  },
  {
   "cell_type": "markdown",
   "id": "a0a0d237",
   "metadata": {},
   "source": [
    "### 데이터 유형 변환하기"
   ]
  },
  {
   "cell_type": "code",
   "execution_count": 43,
   "id": "55a09a73",
   "metadata": {},
   "outputs": [
    {
     "name": "stdout",
     "output_type": "stream",
     "text": [
      "4\n"
     ]
    },
    {
     "data": {
      "text/plain": [
       "2.0"
      ]
     },
     "execution_count": 43,
     "metadata": {},
     "output_type": "execute_result"
    }
   ],
   "source": [
    "num = input()\n",
    "num = int(num)\n",
    "num / 2"
   ]
  }
 ],
 "metadata": {
  "kernelspec": {
   "display_name": "Python 3",
   "language": "python",
   "name": "python3"
  },
  "language_info": {
   "codemirror_mode": {
    "name": "ipython",
    "version": 3
   },
   "file_extension": ".py",
   "mimetype": "text/x-python",
   "name": "python",
   "nbconvert_exporter": "python",
   "pygments_lexer": "ipython3",
   "version": "3.8.8"
  }
 },
 "nbformat": 4,
 "nbformat_minor": 5
}

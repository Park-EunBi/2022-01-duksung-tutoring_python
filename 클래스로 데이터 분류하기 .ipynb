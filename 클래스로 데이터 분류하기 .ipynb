{
 "cells": [
  {
   "cell_type": "markdown",
   "id": "963cc5b2",
   "metadata": {},
   "source": [
    "# 클래스와 객체\n",
    "## 클래스: 데이터 유형 "
   ]
  },
  {
   "cell_type": "code",
   "execution_count": 1,
   "id": "2925982e",
   "metadata": {},
   "outputs": [
    {
     "data": {
      "text/plain": [
       "int"
      ]
     },
     "execution_count": 1,
     "metadata": {},
     "output_type": "execute_result"
    }
   ],
   "source": [
    "type(1)"
   ]
  },
  {
   "cell_type": "code",
   "execution_count": 2,
   "id": "eaf5ff3d",
   "metadata": {},
   "outputs": [
    {
     "data": {
      "text/plain": [
       "str"
      ]
     },
     "execution_count": 2,
     "metadata": {},
     "output_type": "execute_result"
    }
   ],
   "source": [
    "type('a')"
   ]
  },
  {
   "cell_type": "markdown",
   "id": "b19fe1a0",
   "metadata": {},
   "source": [
    "# 클래스 정의하기  \n",
    "## class 문"
   ]
  },
  {
   "cell_type": "code",
   "execution_count": 3,
   "id": "adb73676",
   "metadata": {},
   "outputs": [],
   "source": [
    "class 클래스_이름: \n",
    "# class의 이름은 파스칼 표기법을 따른다 (예 - PythonStudy)\n",
    "   본문"
   ]
  },
  {
   "cell_type": "code",
   "execution_count": null,
   "id": "e55fab1a",
   "metadata": {},
   "outputs": [],
   "source": [
    "# 케이크 유형을 나타내는 클래스를 정의해보자\n",
    "class Cake():\n",
    "    coat = '생크림'\n",
    "    \n",
    "cake_1 = Cake()\n",
    "cake_2 = Cake()"
   ]
  },
  {
   "cell_type": "markdown",
   "id": "4b522286",
   "metadata": {},
   "source": [
    "## 클래스의 공용 속성 "
   ]
  },
  {
   "cell_type": "code",
   "execution_count": 5,
   "id": "6d8f5372",
   "metadata": {},
   "outputs": [
    {
     "data": {
      "text/plain": [
       "1000"
      ]
     },
     "execution_count": 5,
     "metadata": {},
     "output_type": "execute_result"
    }
   ],
   "source": [
    "class Cake(): # 클래스 생성 \n",
    "    coat = '생크림' # 공용 속성 생성\n",
    "    \n",
    "cake_1 = Cake() # 인스턴스 생성 \n",
    "cake_2 = Cake() # 인스턴스 생성 \n",
    "\n",
    "cake_1.coat # 인스턴스의 속성 출력 \n",
    "\n",
    "cake_2.coat = '초콜릿' # 인스턴스의 속성 변경 \n",
    "cake_2.coat\n",
    "\n",
    "Cake.price = 1000 # 클래스에 공용 속성 추가 \n",
    "Cake.price"
   ]
  },
  {
   "cell_type": "markdown",
   "id": "32c8cc53",
   "metadata": {},
   "source": [
    "## 인스턴스 전용 속성"
   ]
  },
  {
   "cell_type": "code",
   "execution_count": 7,
   "id": "54527542",
   "metadata": {},
   "outputs": [
    {
     "ename": "AttributeError",
     "evalue": "'Cake' object has no attribute 'topping'",
     "output_type": "error",
     "traceback": [
      "\u001b[1;31m---------------------------------------------------------------------------\u001b[0m",
      "\u001b[1;31mAttributeError\u001b[0m                            Traceback (most recent call last)",
      "\u001b[1;32m<ipython-input-7-db842fc0afed>\u001b[0m in \u001b[0;36m<module>\u001b[1;34m\u001b[0m\n\u001b[0;32m      7\u001b[0m \u001b[0mcake_1\u001b[0m\u001b[1;33m.\u001b[0m\u001b[0mtopping\u001b[0m \u001b[1;33m=\u001b[0m \u001b[1;34m'바나나'\u001b[0m\u001b[1;33m\u001b[0m\u001b[1;33m\u001b[0m\u001b[0m\n\u001b[0;32m      8\u001b[0m \u001b[0mcake_1\u001b[0m\u001b[1;33m.\u001b[0m\u001b[0mtopping\u001b[0m\u001b[1;33m\u001b[0m\u001b[1;33m\u001b[0m\u001b[0m\n\u001b[1;32m----> 9\u001b[1;33m \u001b[0mcake_2\u001b[0m\u001b[1;33m.\u001b[0m\u001b[0mtopping\u001b[0m\u001b[1;33m\u001b[0m\u001b[1;33m\u001b[0m\u001b[0m\n\u001b[0m",
      "\u001b[1;31mAttributeError\u001b[0m: 'Cake' object has no attribute 'topping'"
     ]
    }
   ],
   "source": [
    "class Cake(): # 클래스 생성 \n",
    "    coat = '생크림' # 공용 속성 생성\n",
    "    \n",
    "cake_1 = Cake() # 인스턴스 생성 \n",
    "cake_2 = Cake() # 인스턴스 생성 \n",
    "\n",
    "cake_1.topping = '바나나'\n",
    "cake_1.topping\n",
    "cake_2.topping"
   ]
  },
  {
   "cell_type": "markdown",
   "id": "d4c4d9d2",
   "metadata": {},
   "source": [
    "# 메서드\n",
    "## 메서드 정의하기"
   ]
  },
  {
   "cell_type": "code",
   "execution_count": null,
   "id": "81df151e",
   "metadata": {},
   "outputs": [],
   "source": [
    "class Cake():\n",
    "    coat = '생크림'\n",
    "    \n",
    "    def describe():\n",
    "        print('이 케이크는', Cake.coat ,'으로 덮여 있다.')\n",
    "        "
   ]
  },
  {
   "cell_type": "markdown",
   "id": "00fe8d4a",
   "metadata": {},
   "source": [
    "## 메서드 호출하기"
   ]
  },
  {
   "cell_type": "code",
   "execution_count": 8,
   "id": "75b0d67c",
   "metadata": {},
   "outputs": [
    {
     "ename": "TypeError",
     "evalue": "describe() takes 0 positional arguments but 1 was given",
     "output_type": "error",
     "traceback": [
      "\u001b[1;31m---------------------------------------------------------------------------\u001b[0m",
      "\u001b[1;31mTypeError\u001b[0m                                 Traceback (most recent call last)",
      "\u001b[1;32m<ipython-input-8-cdb7f68f1486>\u001b[0m in \u001b[0;36m<module>\u001b[1;34m\u001b[0m\n\u001b[0;32m      6\u001b[0m \u001b[1;33m\u001b[0m\u001b[0m\n\u001b[0;32m      7\u001b[0m \u001b[0mcake_1\u001b[0m \u001b[1;33m=\u001b[0m \u001b[0mCake\u001b[0m\u001b[1;33m(\u001b[0m\u001b[1;33m)\u001b[0m\u001b[1;33m\u001b[0m\u001b[1;33m\u001b[0m\u001b[0m\n\u001b[1;32m----> 8\u001b[1;33m \u001b[0mcake_1\u001b[0m\u001b[1;33m.\u001b[0m\u001b[0mdescribe\u001b[0m\u001b[1;33m(\u001b[0m\u001b[1;33m)\u001b[0m\u001b[1;33m\u001b[0m\u001b[1;33m\u001b[0m\u001b[0m\n\u001b[0m",
      "\u001b[1;31mTypeError\u001b[0m: describe() takes 0 positional arguments but 1 was given"
     ]
    }
   ],
   "source": [
    "class Cake():\n",
    "    coat = '생크림'\n",
    "    \n",
    "    def describe():\n",
    "        print('이 케이크는', Cake.coat ,'으로 덮여 있다.')\n",
    "        \n",
    "cake_1 = Cake()\n",
    "cake_1.describe()"
   ]
  },
  {
   "cell_type": "markdown",
   "id": "04919273",
   "metadata": {},
   "source": [
    "## 인스턴스에서 메서드 호출하기"
   ]
  },
  {
   "cell_type": "code",
   "execution_count": 9,
   "id": "c0b1c060",
   "metadata": {},
   "outputs": [
    {
     "name": "stdout",
     "output_type": "stream",
     "text": [
      "이 케이크는 생크림 으로 덮여 있다.\n"
     ]
    }
   ],
   "source": [
    "class Cake():\n",
    "    coat = '생크림'\n",
    "    \n",
    "    def describe(self):\n",
    "        print('이 케이크는', coat,'으로 덮여 있다.')\n",
    "        \n",
    "cake_1 = Cake() # 인스 턴스 생성 \n",
    "cake_1.describe() # 인스턴스 메서드 사용 "
   ]
  },
  {
   "cell_type": "code",
   "execution_count": null,
   "id": "e03e566a",
   "metadata": {},
   "outputs": [],
   "source": [
    "class 클래스이름:\n",
    "    클래스 공용 속성 \n",
    "    \n",
    "    def 메서드(self, ):\n",
    "        메서드 본문 "
   ]
  },
  {
   "cell_type": "markdown",
   "id": "1e0dd781",
   "metadata": {},
   "source": [
    "## 인스턴스용 메서드 정의하기"
   ]
  },
  {
   "cell_type": "code",
   "execution_count": null,
   "id": "568f1204",
   "metadata": {},
   "outputs": [],
   "source": [
    "class Cake():\n",
    "    coat = '생크림'\n",
    "    \n",
    "    def describe(self):\n",
    "        print('이 케이크는', self.coat,'으로 덮여 있다.')\n",
    "        \n",
    "cake_1 = Cake() # 인스 턴스 생성 \n",
    "cake_1.describe() # 인스턴스 메서드 사용 "
   ]
  },
  {
   "cell_type": "markdown",
   "id": "be53d885",
   "metadata": {},
   "source": [
    "## 인스턴스 초기화하기 "
   ]
  },
  {
   "cell_type": "code",
   "execution_count": 10,
   "id": "08d6860a",
   "metadata": {},
   "outputs": [
    {
     "name": "stdout",
     "output_type": "stream",
     "text": [
      "이 케이크는 생크림 으로 덮여 있다.\n",
      "초가  3 개 꽂혀 있다.\n"
     ]
    }
   ],
   "source": [
    "class Cake():\n",
    "    coat = '생크림'\n",
    "    \n",
    "    def __init__(self, candle):\n",
    "        self.candle = candle \n",
    "        \n",
    "    def describe(self):\n",
    "        print('이 케이크는', self.coat,'으로 덮여 있다.')\n",
    "        print('초가 ', self.candle, '개 꽂혀 있다.')\n",
    "        \n",
    "cake_1 = Cake(3) # 인스 턴스 생성 \n",
    "cake_1.describe() # 인스턴스 메서드 사용 "
   ]
  },
  {
   "cell_type": "code",
   "execution_count": null,
   "id": "2375b2e4",
   "metadata": {},
   "outputs": [],
   "source": [
    "class 클래스 이름:\n",
    "    클래스 공용속성 \n",
    "    \n",
    "    def __init__(self, ...):\n",
    "        self.a = a\n",
    "        \n",
    "    def 메서드 (self, )\n",
    "        내용 "
   ]
  },
  {
   "cell_type": "markdown",
   "id": "68d62c0b",
   "metadata": {},
   "source": [
    "### __init__() 메서드로 인스턴스 초기화하기"
   ]
  },
  {
   "cell_type": "code",
   "execution_count": 11,
   "id": "f1b2ae4f",
   "metadata": {},
   "outputs": [
    {
     "name": "stdout",
     "output_type": "stream",
     "text": [
      "이 케이크는 생크림 으로 덮여 있다.\n",
      "초가  10 개 꽂혀 있다.\n",
      "가격은 10000 원 이다.\n"
     ]
    }
   ],
   "source": [
    "class Cake():\n",
    "    coat = '생크림'\n",
    "    \n",
    "    def __init__(self, candle, price, topping): # 초기화 함수 - 생성자 \n",
    "        self.candle = candle \n",
    "        self.price = price\n",
    "        self.topping = topping\n",
    "        \n",
    "        \n",
    "    def describe(self): # 메서드 정의 \n",
    "        print('이 케이크는', self.coat,'으로 덮여 있다.')\n",
    "        print('초가 ', self.candle, '개 꽂혀 있다.')\n",
    "        print('가격은', self.price, '원 이다.')\n",
    "        \n",
    "cake_1 = Cake(10, 10000, '딸기') # 인스턴스 생성 (초기화 진행)\n",
    "cake_1.describe()"
   ]
  },
  {
   "cell_type": "markdown",
   "id": "bb90b05a",
   "metadata": {},
   "source": [
    "# 연습 문제\n",
    "좌표를 나타내는 클래스 Coordinate를 정의해 보라.\n",
    "이 클래스의 속성으로 x와  y를 정의하고 \n",
    "초기화 함수를 사용하여 초기화 시키자. \n",
    "describe() 함수를 정의하여 초기화된 x, y의 값을 출력해보자 "
   ]
  },
  {
   "cell_type": "code",
   "execution_count": 12,
   "id": "c524cc53",
   "metadata": {},
   "outputs": [
    {
     "name": "stdout",
     "output_type": "stream",
     "text": [
      "x =  1 y =  2\n"
     ]
    }
   ],
   "source": [
    "class Coordinate():\n",
    "    def __init__(self, x, y):\n",
    "        self.x = x\n",
    "        self.y = y\n",
    "    \n",
    "    def describe(self):\n",
    "        print('x = ', self.x, 'y = ', self.y)\n",
    "        \n",
    "coor = Coordinate(1, 2)\n",
    "coor.describe()"
   ]
  },
  {
   "cell_type": "markdown",
   "id": "7da810d1",
   "metadata": {},
   "source": [
    "# 클래스의 포함 관계 나타내기"
   ]
  },
  {
   "cell_type": "markdown",
   "id": "7bf226ea",
   "metadata": {},
   "source": [
    "## 하위 클래스 정의하기 "
   ]
  },
  {
   "cell_type": "code",
   "execution_count": null,
   "id": "226fec80",
   "metadata": {},
   "outputs": [],
   "source": [
    "class A():\n",
    "    ...\n",
    "    \n",
    "class B(A): # B 클래스는 A 클래스의 하위 클래스이다. \n",
    "    ..."
   ]
  },
  {
   "cell_type": "code",
   "execution_count": 14,
   "id": "c1230d5f",
   "metadata": {},
   "outputs": [
    {
     "name": "stdout",
     "output_type": "stream",
     "text": [
      "이 케이크는 초코 으로 덮여 있다.\n",
      "초가  10 개 꽂혀 있다.\n",
      "가격은 10000 원 이다.\n"
     ]
    }
   ],
   "source": [
    "class Cake(): # chocake의 상위 클래스 이다. \n",
    "    coat = '생크림'\n",
    "    \n",
    "    def __init__(self, candle, price, topping): # 초기화 함수 - 생성자 \n",
    "        self.candle = candle \n",
    "        self.price = price\n",
    "        self.topping = topping\n",
    "        \n",
    "        \n",
    "    def describe(self): # 메서드 정의 \n",
    "        print('이 케이크는', self.coat,'으로 덮여 있다.')\n",
    "        print('초가 ', self.candle, '개 꽂혀 있다.')\n",
    "        print('가격은', self.price, '원 이다.')\n",
    "        \n",
    "class ChoCake(Cake):# Cake를 상속한다. (확장한다. )\n",
    "    coat = '초코'\n",
    "    cocoa_percent = 32\n",
    "    \n",
    "cho = ChoCake(10, 10000, '바나나')\n",
    "cho.describe()"
   ]
  },
  {
   "cell_type": "markdown",
   "id": "d7fb88cf",
   "metadata": {},
   "source": [
    "### __init__() 메서드 재정의 하기"
   ]
  },
  {
   "cell_type": "code",
   "execution_count": 15,
   "id": "8082a667",
   "metadata": {},
   "outputs": [
    {
     "name": "stdout",
     "output_type": "stream",
     "text": [
      "이 케이크는 아이스크림 으로 덮여 있다.\n",
      "초가  20 개 꽂혀 있다.\n",
      "가격은 20000 원 이다.\n"
     ]
    }
   ],
   "source": [
    "class Cake(): # chocake의 상위 클래스 이다. \n",
    "    coat = '생크림'\n",
    "    \n",
    "    def __init__(self, candle, price, topping): # 초기화 함수 - 생성자 \n",
    "        self.candle = candle \n",
    "        self.price = price\n",
    "        self.topping = topping\n",
    "        \n",
    "        \n",
    "    def describe(self): # 메서드 정의 \n",
    "        print('이 케이크는', self.coat,'으로 덮여 있다.')\n",
    "        print('초가 ', self.candle, '개 꽂혀 있다.')\n",
    "        print('가격은', self.price, '원 이다.')\n",
    "        \n",
    "\n",
    "class IceCreamCake(Cake): # IceCreamCake은 Cake를 상속 받았다. \n",
    "    coat = '아이스크림'\n",
    "    flavor = '정해지지 않은 맛'\n",
    "    \n",
    "    def __init__(self, candle, price, topping, flavor): # 초기화 함수 재정의 \n",
    "        self.flavor = flavor # 초기화 \n",
    "        super().__init__(candle, price, topping) # super()함수로 상속 받은 값 받아오기 \n",
    "    \n",
    "    \n",
    "ice = IceCreamCake(20, 20000, '딸기', '초코') # 인스턴스 생성 및 초기화 \n",
    "ice.describe() # 인스턴스 메서드 실행 "
   ]
  }
 ],
 "metadata": {
  "kernelspec": {
   "display_name": "Python 3",
   "language": "python",
   "name": "python3"
  },
  "language_info": {
   "codemirror_mode": {
    "name": "ipython",
    "version": 3
   },
   "file_extension": ".py",
   "mimetype": "text/x-python",
   "name": "python",
   "nbconvert_exporter": "python",
   "pygments_lexer": "ipython3",
   "version": "3.8.8"
  }
 },
 "nbformat": 4,
 "nbformat_minor": 5
}
